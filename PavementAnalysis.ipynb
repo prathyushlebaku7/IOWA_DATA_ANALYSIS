{
 "cells": [
  {
   "cell_type": "code",
   "execution_count": 1,
   "id": "bcd4ac90-aed7-4a37-939c-9e7d3b95973e",
   "metadata": {
    "tags": []
   },
   "outputs": [],
   "source": [
    "import pandas as pd\n",
    "import numpy as np\n",
    "from scipy.stats import pearsonr"
   ]
  },
  {
   "cell_type": "code",
   "execution_count": 10,
   "id": "3dadc4d3-282a-4b39-a5d2-fe5f8a4f97a2",
   "metadata": {
    "tags": []
   },
   "outputs": [
    {
     "data": {
      "text/plain": [
       "0       {7685BA86-8E86-4EBF-ABBF-364744653977}\n",
       "1       {0453311E-612B-4B7B-98AB-169A188AFA69}\n",
       "2       {DB295A9B-F081-4F2C-822E-DAAB691ABFEE}\n",
       "3       {AA8CA3EB-4F26-470D-82B0-059D83B8D2F8}\n",
       "4       {BFB75875-9E2B-400F-BEDD-202E78C37510}\n",
       "                         ...                  \n",
       "1839    {76E6C089-887C-4480-A0CB-DB066DA52A57}\n",
       "1840    {01903288-FF1E-4810-AE9C-16BEA7633B4C}\n",
       "1841    {B42FCDB1-7262-4B1F-87CC-EB28DA3597DA}\n",
       "1842    {6FAA28B6-7B25-4107-B97A-BB6330B5205E}\n",
       "1843    {CADA177D-4266-43AE-B7F0-741EEAE5C95C}\n",
       "Name: GLOBALID, Length: 1844, dtype: object"
      ]
     },
     "execution_count": 10,
     "metadata": {},
     "output_type": "execute_result"
    }
   ],
   "source": [
    "# Pavement condition dataset\n",
    "df_pavement = pd.read_csv('/Users/lebakuprathyushkumarreddy/Downloads/Pavement_County68.csv', engine='python')\n",
    "\n",
    "# Crash data dataset\n",
    "df_crash = pd.read_csv('/Users/lebakuprathyushkumarreddy/Downloads/Crash_Data_County68.csv')\n",
    "df_crash['GLOBALID']"
   ]
  },
  {
   "cell_type": "code",
   "execution_count": 9,
   "id": "ebbe73d9-c425-4c21-92ff-714b62adb3d7",
   "metadata": {
    "tags": []
   },
   "outputs": [
    {
     "data": {
      "text/plain": [
       "0       7685ba86-8e86-4ebf-abbf-364744653977\n",
       "1       0453311e-612b-4b7b-98ab-169a188afa69\n",
       "2       db295a9b-f081-4f2c-822e-daab691abfee\n",
       "3       aa8ca3eb-4f26-470d-82b0-059d83b8d2f8\n",
       "4       bfb75875-9e2b-400f-bedd-202e78c37510\n",
       "                        ...                 \n",
       "1839    76e6c089-887c-4480-a0cb-db066da52a57\n",
       "1840    01903288-ff1e-4810-ae9c-16bea7633b4c\n",
       "1841    b42fcdb1-7262-4b1f-87cc-eb28da3597da\n",
       "1842    6faa28b6-7b25-4107-b97a-bb6330b5205e\n",
       "1843    cada177d-4266-43ae-b7f0-741eeae5c95c\n",
       "Name: GLOBALID, Length: 1844, dtype: object"
      ]
     },
     "metadata": {},
     "output_type": "display_data"
    }
   ],
   "source": [
    "df_crash['GLOBALID'] = df_crash['GLOBALID'].str.lower().str.strip('{}')\n",
    "display(df_crash['GLOBALID'])"
   ]
  },
  {
   "cell_type": "code",
   "execution_count": 11,
   "id": "e2274d74-c6c5-43b6-b037-0ea6fc0dbce4",
   "metadata": {
    "tags": []
   },
   "outputs": [
    {
     "data": {
      "text/html": [
       "<div>\n",
       "<style scoped>\n",
       "    .dataframe tbody tr th:only-of-type {\n",
       "        vertical-align: middle;\n",
       "    }\n",
       "\n",
       "    .dataframe tbody tr th {\n",
       "        vertical-align: top;\n",
       "    }\n",
       "\n",
       "    .dataframe thead th {\n",
       "        text-align: right;\n",
       "    }\n",
       "</style>\n",
       "<table border=\"1\" class=\"dataframe\">\n",
       "  <thead>\n",
       "    <tr style=\"text-align: right;\">\n",
       "      <th></th>\n",
       "      <th>OBJECTID_x</th>\n",
       "      <th>ORIGKEY</th>\n",
       "      <th>PMISYR</th>\n",
       "      <th>ROUTE_ID</th>\n",
       "      <th>FROM_MEASURE</th>\n",
       "      <th>TO_MEASURE</th>\n",
       "      <th>SYSTEM</th>\n",
       "      <th>ROUTE</th>\n",
       "      <th>DIR</th>\n",
       "      <th>BPOST</th>\n",
       "      <th>...</th>\n",
       "      <th>XCOORD</th>\n",
       "      <th>YCOORD</th>\n",
       "      <th>REST_UPDATED_y</th>\n",
       "      <th>REST_UPDATE_UTC_OFFSET</th>\n",
       "      <th>CRASH_DATETIME</th>\n",
       "      <th>CRASH_DATETIME_UTC</th>\n",
       "      <th>CRASH_DATETIME_UTC_OFFSET</th>\n",
       "      <th>CITY_NAME</th>\n",
       "      <th>COUNTY_NAME</th>\n",
       "      <th>CARDINAL</th>\n",
       "    </tr>\n",
       "  </thead>\n",
       "  <tbody>\n",
       "  </tbody>\n",
       "</table>\n",
       "<p>0 rows × 283 columns</p>\n",
       "</div>"
      ],
      "text/plain": [
       "Empty DataFrame\n",
       "Columns: [OBJECTID_x, ORIGKEY, PMISYR, ROUTE_ID, FROM_MEASURE, TO_MEASURE, SYSTEM, ROUTE, DIR, BPOST, EPOST, PAVTYP, DESCRIPT, CONYR, RESYR, PMIS_LENGTH, LANE_MILES, MDIST, COUNTY, CITY, PCI_2, PCI_2DEF, RUT_INDX, IRI_INDX, FAULT_INDX, CRACK_INDX, IRI, FRICT, FRIDATE, FAULT, FAULTAV, RUT, CRACK_RATIO, T_INDX, L_INDX, LW_INDX, LLW_INDX, A_INDX, ACRACKH, ACRACKM, ACRACKL, TCRACKH, TCRACKM, TCRACKL, LCRACKH, LCRACKM, LCRACKL, LCRACKWH, LCRACKWM, LCRACKWL, DCRACKH, DCRACKM, DCRACKL, JTSPALLH, JTSPALLM, JTSPALL_LONG, JTSPALL_TRANS, PATCHAB, PATCHAG, PATCHES, COVERAGE, CAPDAT, STRUC80, STRUCT_NEED80, STRUCAV, STRUCJTR, AVEK, FWD_DATE, TRYR, AADT, TRUCKS, NHS, SYS_NHS, URBAN, PCLASS, FCLASS, MEDIAN, MEDIAN_PCT, LANES, SPEED, SURFACE_TYPE, PAVTHICK, TACCDPTH, TPCCDPTH, BASEDPTH, MLEVEL, WIDTH, WDRIVELN, RCURB, LCURB, ISHLDTIE, ISHLDTYP, ISHLDWID, OSHLDTIE, OSHLDTYP, OSHLDWID, COMPLEX, SUBDRAIN, SUBDPCT, SUBDMULT, ...]\n",
       "Index: []\n",
       "\n",
       "[0 rows x 283 columns]"
      ]
     },
     "metadata": {},
     "output_type": "display_data"
    }
   ],
   "source": [
    "df = df_pavement.merge(df_crash, on='GLOBALID')\n",
    "display(df)"
   ]
  },
  {
   "cell_type": "code",
   "execution_count": null,
   "id": "0760002a-9111-4616-8d3c-c48ff4edcb6e",
   "metadata": {},
   "outputs": [],
   "source": []
  }
 ],
 "metadata": {
  "kernelspec": {
   "display_name": "Python 3 (ipykernel)",
   "language": "python",
   "name": "python3"
  },
  "language_info": {
   "codemirror_mode": {
    "name": "ipython",
    "version": 3
   },
   "file_extension": ".py",
   "mimetype": "text/x-python",
   "name": "python",
   "nbconvert_exporter": "python",
   "pygments_lexer": "ipython3",
   "version": "3.11.4"
  }
 },
 "nbformat": 4,
 "nbformat_minor": 5
}
